{
 "cells": [
  {
   "cell_type": "code",
   "execution_count": 21,
   "metadata": {},
   "outputs": [],
   "source": [
    "from keras.models import Sequential # using sequential model\n",
    "from keras.layers import Conv2D # for the convolutional layers and 2D photographs\n",
    "from keras.layers import MaxPooling2D\n",
    "from keras.layers import Flatten # flatten image\n",
    "from keras.layers import Dense"
   ]
  },
  {
   "cell_type": "code",
   "execution_count": 22,
   "metadata": {},
   "outputs": [],
   "source": [
    "def make_model(parameters):\n",
    "    check_boxes=parameters[\"check_box\"]\n",
    "    neuron=parameters[\"neurons\"]\n",
    "    layers=[]\n",
    "    for check_box, neurons in zip(check_boxes, neuron):\n",
    "        if check_box:\n",
    "            layers.append(neurons)\n",
    "    classifier = Sequential() # tworzy obiekt o informacjach sieci neuronowej\n",
    "    for units in layers:\n",
    "        classifier.add(Dense(units = units, activation = 'relu')) # take the values that were flattened for this layer\n",
    "    return classifier\n"
   ]
  },
  {
   "cell_type": "code",
   "execution_count": 23,
   "metadata": {},
   "outputs": [],
   "source": [
    "parameters={\"check_box\":[True, False, True],\"neurons\":[5, 10, 15]}"
   ]
  },
  {
   "cell_type": "code",
   "execution_count": 25,
   "metadata": {},
   "outputs": [],
   "source": [
    "classifier = make_model(parameters)\n"
   ]
  },
  {
   "cell_type": "code",
   "execution_count": null,
   "metadata": {},
   "outputs": [],
   "source": [
    "classifier."
   ]
  }
 ],
 "metadata": {
  "kernelspec": {
   "display_name": "Python 3",
   "language": "python",
   "name": "python3"
  },
  "language_info": {
   "codemirror_mode": {
    "name": "ipython",
    "version": 3
   },
   "file_extension": ".py",
   "mimetype": "text/x-python",
   "name": "python",
   "nbconvert_exporter": "python",
   "pygments_lexer": "ipython3",
   "version": "3.6.5"
  }
 },
 "nbformat": 4,
 "nbformat_minor": 2
}
